{
 "cells": [
  {
   "cell_type": "code",
   "execution_count": 5,
   "metadata": {},
   "outputs": [],
   "source": [
    "import pandas as pd\n",
    "import seaborn as sns\n",
    "import matplotlib.pyplot as plt\n",
    "import numpy as np\n",
    "\n",
    "'''downlaod iris.csv from https://raw.githubusercontent.com/uiuc-cse/data-fa14/gh-pages/data/iris.csv'''\n",
    "# load haberman.csv into a pandas dataFrame\n",
    "\n",
    "df = pd.read_csv(\"haberman.csv\")"
   ]
  },
  {
   "cell_type": "code",
   "execution_count": 6,
   "metadata": {},
   "outputs": [
    {
     "name": "stdout",
     "output_type": "stream",
     "text": [
      "(305, 4)\n"
     ]
    }
   ],
   "source": [
    "print(df.shape)\n"
   ]
  },
  {
   "cell_type": "code",
   "execution_count": 10,
   "metadata": {},
   "outputs": [
    {
     "name": "stdout",
     "output_type": "stream",
     "text": [
      "<bound method NDFrame.head of      Age  Op_Year  Axil_Nodes  Survival_Status\n",
      "0     30       62           3                1\n",
      "1     30       65           0                1\n",
      "2     31       59           2                1\n",
      "3     31       65           4                1\n",
      "4     33       58          10                1\n",
      "5     33       60           0                1\n",
      "6     34       59           0                2\n",
      "7     34       66           9                2\n",
      "8     34       58          30                1\n",
      "9     34       60           1                1\n",
      "10    34       61          10                1\n",
      "11    34       67           7                1\n",
      "12    34       60           0                1\n",
      "13    35       64          13                1\n",
      "14    35       63           0                1\n",
      "15    36       60           1                1\n",
      "16    36       69           0                1\n",
      "17    37       60           0                1\n",
      "18    37       63           0                1\n",
      "19    37       58           0                1\n",
      "20    37       59           6                1\n",
      "21    37       60          15                1\n",
      "22    37       63           0                1\n",
      "23    38       69          21                2\n",
      "24    38       59           2                1\n",
      "25    38       60           0                1\n",
      "26    38       60           0                1\n",
      "27    38       62           3                1\n",
      "28    38       64           1                1\n",
      "29    38       66           0                1\n",
      "..   ...      ...         ...              ...\n",
      "275   67       66           0                1\n",
      "276   67       61           0                1\n",
      "277   67       65           0                1\n",
      "278   68       67           0                1\n",
      "279   68       68           0                1\n",
      "280   69       67           8                2\n",
      "281   69       60           0                1\n",
      "282   69       65           0                1\n",
      "283   69       66           0                1\n",
      "284   70       58           0                2\n",
      "285   70       58           4                2\n",
      "286   70       66          14                1\n",
      "287   70       67           0                1\n",
      "288   70       68           0                1\n",
      "289   70       59           8                1\n",
      "290   70       63           0                1\n",
      "291   71       68           2                1\n",
      "292   72       63           0                2\n",
      "293   72       58           0                1\n",
      "294   72       64           0                1\n",
      "295   72       67           3                1\n",
      "296   73       62           0                1\n",
      "297   73       68           0                1\n",
      "298   74       65           3                2\n",
      "299   74       63           0                1\n",
      "300   75       62           1                1\n",
      "301   76       67           0                1\n",
      "302   77       65           3                1\n",
      "303   78       65           1                2\n",
      "304   83       58           2                2\n",
      "\n",
      "[305 rows x 4 columns]>\n"
     ]
    }
   ],
   "source": [
    "df.columns = ['Age','Op_Year','Axil_Nodes',\n",
    "                     'Survival_Status']\n",
    "print(df.head)"
   ]
  },
  {
   "cell_type": "code",
   "execution_count": 12,
   "metadata": {},
   "outputs": [
    {
     "name": "stdout",
     "output_type": "stream",
     "text": [
      "Index(['Age', 'Op_Year', 'Axil_Nodes', 'Survival_Status'], dtype='object')\n"
     ]
    }
   ],
   "source": [
    "print(df.columns)"
   ]
  },
  {
   "cell_type": "code",
   "execution_count": 15,
   "metadata": {},
   "outputs": [
    {
     "name": "stdout",
     "output_type": "stream",
     "text": [
      "1    224\n",
      "2     81\n",
      "Name: Survival_Status, dtype: int64\n"
     ]
    }
   ],
   "source": [
    "print(df['Survival_Status'].value_counts())"
   ]
  },
  {
   "cell_type": "markdown",
   "metadata": {},
   "source": [
    "# 2. Univariate Analysis"
   ]
  },
  {
   "cell_type": "code",
   "execution_count": null,
   "metadata": {},
   "outputs": [],
   "source": [
    "# * Distribution plots are used to visually assess how the data points are distributed with respect to its frequency.\n",
    "# * Usually the data points are grouped into bins and the height of the bars representing each group increases with increase in the number of data points \n",
    "# lie within that group. (histogram)\n",
    "# * Probality Density Function (PDF) is the probabilty that the variable takes a value x. (smoothed version of the histogram)\n",
    "# * Kernel Density Estimate (KDE) is the way to estimate the PDF. The area under the KDE curve is 1.\n",
    "# * Here the height of the bar denotes the percentage of data points under the corresponding group\n",
    "\n"
   ]
  }
 ],
 "metadata": {
  "kernelspec": {
   "display_name": "Python 3",
   "language": "python",
   "name": "python3"
  },
  "language_info": {
   "codemirror_mode": {
    "name": "ipython",
    "version": 3
   },
   "file_extension": ".py",
   "mimetype": "text/x-python",
   "name": "python",
   "nbconvert_exporter": "python",
   "pygments_lexer": "ipython3",
   "version": "3.6.5"
  }
 },
 "nbformat": 4,
 "nbformat_minor": 2
}
